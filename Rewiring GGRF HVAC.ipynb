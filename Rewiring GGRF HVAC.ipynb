{
 "cells": [
  {
   "cell_type": "markdown",
   "metadata": {},
   "source": [
    "# Introduction to the Rewiring America GGRF HVAC Upgrade API\n",
    "\n",
    "Rewiring America provides an API that replicates the methodology GGRF has selected for evaluating the changes in\n",
    "emissions associated with various household HVAC upgrades.\n",
    "\n",
    "This API is primarily intended to be used by our various GGRF partners.\n",
    "\n",
    "The API entry points are designed to take the following inputs:\n",
    "\n",
    "- the zip code of the home to be upgraded.\n",
    "- an existing heating unit described in terms of:\n",
    "  - what fuel it uses;\n",
    "  - how much of that fuel it uses;\n",
    "  - how efficient it is.\n",
    "- a new heat pump described in terms of:\n",
    "  - the heat pump's efficiency.\n",
    "\n",
    "v1 of the API is based on sample calculations in a GGRF-provided spreadsheet entitled\n",
    "`Priority_Project_2_Net-Zero Building GGRF Calculator 10.18.24.xlsx`. Specifically, it\n",
    "replicates the calculator found on the `B1. HVAC Update` tab.\n",
    "\n",
    "The tab is in some sense one calculator, but because some inputs are used or unused, or conditionally required based on\n",
    "the values of others, we have broken out a series of API entry points. The four main entry points compute emission\n",
    "changes as a result of\n",
    "\n",
    "- Natural gas to heat pump HVAC upgrades\n",
    "- Oil to heat pump HVAC upgrades\n",
    "- Propane to heat pump HVAC upgrades\n",
    "- Electric to heat pump HVAC upgrades\n",
    "\n",
    "The reason we broke these out, as opposed to having a single API entry point with an argument to specify the type of\n",
    "HVAC being replaced is that conditional on what type it is, we need slightly different arguments, e.g. existing\n",
    "consumption in cubic feet of natural gas vs. gallons of oil or propane, that means we have to either overload arguments\n",
    "or have several optional arguments. Breaking the API into four entry points hopefully makes it more clear exactly what\n",
    "is required in each case.\n",
    "\n",
    "In addition these calculator APIs, there are three utility APIs to look up the efficiency of legacy HVAC equipment. The\n",
    "reason we need these is that in order for the API entry points above to do their work, they must be told what the\n",
    "efficiency of the equipment being replaced is. Sometimes this is known, but often it is not. What may be known, however,\n",
    "is the efficiency standard of the old equipment, which we can then use to approximate its efficiency. These three APIs\n",
    "return efficiency based on the standard met by\n",
    "\n",
    "- Propane or gas equipment\n",
    "- Oil equipment\n",
    "- Electric equipment\n",
    "\n",
    "This notebook demonstrates how to call these APIs."
   ]
  },
  {
   "cell_type": "markdown",
   "metadata": {},
   "source": [
    "## Basic Imports and Setup"
   ]
  },
  {
   "cell_type": "code",
   "execution_count": 1,
   "metadata": {},
   "outputs": [],
   "source": [
    "import requests\n",
    "from pathlib import Path"
   ]
  },
  {
   "cell_type": "markdown",
   "metadata": {},
   "source": [
    "### API Key\n",
    "\n",
    "You will need an API key to access the GGRF API. To obtain an\n",
    "API key, please visit https://rewiring.link/api-signup.\n",
    "\n",
    "If you make a directory called `.rwapi` under your home directory and put a\n",
    "file called `api_key.txt` there with just one line containing your API key,\n",
    "then the code in the next cell will be able to read it. If you prefer, you\n",
    "can hard-code your key in the commented out section. If you do so, please do\n",
    "not check your code into a public repository."
   ]
  },
  {
   "cell_type": "code",
   "execution_count": 2,
   "metadata": {},
   "outputs": [],
   "source": [
    "# Look for our API key is a canonical local place. You can either put your API\n",
    "# key in the file ~/.rwapi/api_key.txt and this code will find it. \n",
    "api_key_path = Path.home() / \".rwapi\" / \"api_key.txt\"\n",
    "\n",
    "if api_key_path.is_file():\n",
    "    with open(api_key_path) as f:\n",
    "        API_KEY = f.read().strip()\n",
    "else:\n",
    "    API_KEY = None\n",
    "\n",
    "# Alternatively, you can just put it in here.\n",
    "# API_KEY = \"zppa_***\""
   ]
  },
  {
   "cell_type": "code",
   "execution_count": 3,
   "metadata": {},
   "outputs": [],
   "source": [
    "headers = {\"Authorization\": f\"Bearer {API_KEY}\"}"
   ]
  },
  {
   "cell_type": "code",
   "execution_count": 4,
   "metadata": {},
   "outputs": [],
   "source": [
    "# The base URL for the API server\n",
    "\n",
    "BASE_URL = \"https://api.rewiringamerica.org/api/v1/ggrf/hvac-upgrade\"\n",
    "\n",
    "NATURAL_GAS_TO_ELECTRIC_URL = f\"{BASE_URL}/natural-gas-to-electric\"\n",
    "OIL_TO_ELECTRIC_URL = f\"{BASE_URL}/oil-to-electric\"\n",
    "PROPANE_TO_ELECTRIC_URL = f\"{BASE_URL}/oil-to-electric\"\n",
    "ELECTRIC_TO_ELECTRIC_URL = f\"{BASE_URL}/electric-to-electric\"\n",
    "\n",
    "NATURAL_GAS_AND_PROPANE_EFFICIENCY_STANDARDS_URL = (\n",
    "    f\"{BASE_URL}/natural-gas-and-propane-efficiency-standards\"\n",
    ")\n",
    "\n",
    "OIL_EFFICIENCY_STANDARDS_URL = f\"{BASE_URL}/oil-efficiency-standards\"\n",
    "\n",
    "ELECTRIC_EFFICIENCY_STANDARDS_URL = f\"{BASE_URL}/electric-efficiency-standards\""
   ]
  },
  {
   "cell_type": "markdown",
   "metadata": {},
   "source": [
    "## First API Call\n",
    "\n",
    "In this first call, we will explore the emissions savings resulting from an upgrade\n",
    "from a natural gas powered heating system to a heat pump.\n",
    "\n",
    "We will provide the API with:\n",
    "\n",
    "- a zip code where the home to be upgraded is located\n",
    "- the efficiency of the new unit in BTU per watt hour (more on this later in the notebook)\n",
    "- the efficiency of the existing unit in BTU per watt hour (more on this later in the notebook)\n",
    "- The number of cubic feet of natural gas the existing unit consumes per year"
   ]
  },
  {
   "cell_type": "code",
   "execution_count": 5,
   "metadata": {},
   "outputs": [
    {
     "data": {
      "text/plain": [
       "'https://api.rewiringamerica.org/api/v1/ggrf/hvac-upgrade/natural-gas-to-electric'"
      ]
     },
     "execution_count": 5,
     "metadata": {},
     "output_type": "execute_result"
    }
   ],
   "source": [
    "NATURAL_GAS_TO_ELECTRIC_URL"
   ]
  },
  {
   "cell_type": "code",
   "execution_count": 6,
   "metadata": {},
   "outputs": [],
   "source": [
    "response = requests.get(\n",
    "    url=NATURAL_GAS_TO_ELECTRIC_URL,\n",
    "    headers=headers,\n",
    "    params={\n",
    "        \"zip_code\": \"30306\",\n",
    "        \"new_unit_efficiency_btu_per_watt_hour\": 17.0,\n",
    "        \"existing_efficiency_btu_per_watt_hour\": 4.0,\n",
    "        \"existing_consumption_cubic_feet_per_year\": 70_000.0,\n",
    "    },\n",
    ")"
   ]
  },
  {
   "cell_type": "code",
   "execution_count": 7,
   "metadata": {},
   "outputs": [
    {
     "data": {
      "text/plain": [
       "200"
      ]
     },
     "execution_count": 7,
     "metadata": {},
     "output_type": "execute_result"
    }
   ],
   "source": [
    "response.status_code"
   ]
  },
  {
   "cell_type": "markdown",
   "metadata": {},
   "source": [
    "### Results\n",
    "\n",
    "Assuming the call succeeded with a status code of 200 (OK), we can look at the JSON response to see:\n",
    "\n",
    "- the predicted emissions from the existing unit, in tons of $\\text{CO}_2$ equivalent per year\n",
    "- the predicted emissions from the new unit\n",
    "- the predicted savings, which is the emissions of the existing unit minus the emissions of the new unit.\n",
    "  A positive number means we are reducing emissions."
   ]
  },
  {
   "cell_type": "code",
   "execution_count": 8,
   "metadata": {},
   "outputs": [
    {
     "data": {
      "text/plain": [
       "{'existing_emissions_tons_co2e': 4.0,\n",
       " 'new_unit_emissions_metric_tons_co2e': 2.39,\n",
       " 'emissions_reduced_metric_tons_co2e': 1.61,\n",
       " 'further_information': 'Please refer to our API documentation for additional information specific to this API.'}"
      ]
     },
     "execution_count": 8,
     "metadata": {},
     "output_type": "execute_result"
    }
   ],
   "source": [
    "response.json()"
   ]
  },
  {
   "cell_type": "markdown",
   "metadata": {},
   "source": [
    "In this examples, emissions will be reduced by 1.61 tons of $\\text{CO}_2$ equivalent.\n",
    "\n",
    "Note that along with the results, the return value also includes further information with some\n",
    "details about the API and usage of it's outputs."
   ]
  },
  {
   "cell_type": "code",
   "execution_count": 9,
   "metadata": {},
   "outputs": [
    {
     "name": "stdout",
     "output_type": "stream",
     "text": [
      "Please refer to our API documentation for additional information specific to this API.\n"
     ]
    }
   ],
   "source": [
    "print(response.json()[\"further_information\"])"
   ]
  },
  {
   "cell_type": "markdown",
   "metadata": {},
   "source": [
    "## Efficiency Standards\n",
    "\n",
    "One of the arguments we had to provide in the API call we just made was `existing_efficiency_btu_per_watt_hour`,\n",
    "which represents the efficiency of the unit we are planning to replace is standardized units of BTU per watt\n",
    "hour. But this is not something most people are likely to know. And this information may or may not be available\n",
    "on a label or in the user manual for the existing unit. So how can we get an idea of what number we should plug in?\n",
    "\n",
    "In order to answer this question, the GGRF spreadsheet our API is based on includes a lookup table from various\n",
    "efficiency standards to their efficiency in BTUs per watt hour. We have replicated that and put it in an API. It can be called as follows:"
   ]
  },
  {
   "cell_type": "code",
   "execution_count": 10,
   "metadata": {},
   "outputs": [],
   "source": [
    "response = requests.get(\n",
    "    url=NATURAL_GAS_AND_PROPANE_EFFICIENCY_STANDARDS_URL,\n",
    "    headers=headers,\n",
    ")"
   ]
  },
  {
   "cell_type": "code",
   "execution_count": 11,
   "metadata": {},
   "outputs": [
    {
     "data": {
      "text/plain": [
       "200"
      ]
     },
     "execution_count": 11,
     "metadata": {},
     "output_type": "execute_result"
    }
   ],
   "source": [
    "response.status_code"
   ]
  },
  {
   "cell_type": "markdown",
   "metadata": {},
   "source": [
    "### Results\n",
    "\n",
    "Assuming the call succeeded with a status code of 200 (OK), we can look at the JSON response to see the names\n",
    "of all the kinds of gas and propane furnaces and boilers that the GGRF knows about."
   ]
  },
  {
   "cell_type": "code",
   "execution_count": 12,
   "metadata": {},
   "outputs": [
    {
     "data": {
      "text/plain": [
       "{'AFUE - Gas/Propane Furnace - Condensing Prior to 2015': 3.07092747,\n",
       " 'AFUE - Gas/Propane Furnace - Natural Draft (All Years)': 2.661470474,\n",
       " 'AFUE - Gas/Propane Furnace - Induced Draft (All Years)': 2.797956139,\n",
       " 'AFUE - Gas/Propane Furnace - North': 3.241534551,\n",
       " 'AFUE - Gas/Propane Furnace - South': 3.07092747,\n",
       " 'AFUE - Gas/Propane Boiler - ENERGY STAR after Oct 2014': 3.07092747,\n",
       " 'AFUE - Gas/Propane Boiler - ENERGY STAR after Oct 2004': 2.900320388,\n",
       " 'AFUE - Gas/Propane Boiler - Condensing': 3.07092747,\n",
       " 'AFUE - Gas/Propane Boiler - Induced Draft': 2.797956139,\n",
       " 'AFUE - Gas/Propane Boiler - Natural Draft': 2.661470474}"
      ]
     },
     "execution_count": 12,
     "metadata": {},
     "output_type": "execute_result"
    }
   ],
   "source": [
    "response.json()"
   ]
  },
  {
   "cell_type": "markdown",
   "metadata": {},
   "source": [
    "So now, if we know the unit that we are replacing is a ENERGY STAR gas boiler installed in 2006,\n",
    "we could look at these values and see that we should use the number `2.900320388` corresponding to\n",
    "`'AFUE - Gas/Propane Boiler - ENERGY STAR after Oct 2004'`. If it were from 2015, on the other hand,\n",
    "we would use the value from `'AFUE - Gas/Propane Boiler - ENERGY STAR after Oct 2014'`."
   ]
  },
  {
   "cell_type": "code",
   "execution_count": 13,
   "metadata": {},
   "outputs": [
    {
     "data": {
      "text/plain": [
       "2.900320388"
      ]
     },
     "execution_count": 13,
     "metadata": {},
     "output_type": "execute_result"
    }
   ],
   "source": [
    "existing_efficiency_btu_per_watt_hour = response.json()[\n",
    "    \"AFUE - Gas/Propane Boiler - ENERGY STAR after Oct 2004\"\n",
    "]\n",
    "existing_efficiency_btu_per_watt_hour"
   ]
  },
  {
   "cell_type": "markdown",
   "metadata": {},
   "source": [
    "### Call the upgrade API again\n",
    "\n",
    "Now we can make our original call again with this number."
   ]
  },
  {
   "cell_type": "code",
   "execution_count": 14,
   "metadata": {},
   "outputs": [],
   "source": [
    "response = requests.get(\n",
    "    url=NATURAL_GAS_TO_ELECTRIC_URL,\n",
    "    headers=headers,\n",
    "    params={\n",
    "        \"zip_code\": \"30306\",\n",
    "        \"new_unit_efficiency_btu_per_watt_hour\": 17.0,\n",
    "        \"existing_efficiency_btu_per_watt_hour\": existing_efficiency_btu_per_watt_hour,\n",
    "        \"existing_consumption_cubic_feet_per_year\": 70_000.0,\n",
    "    },\n",
    ")"
   ]
  },
  {
   "cell_type": "code",
   "execution_count": 15,
   "metadata": {},
   "outputs": [
    {
     "data": {
      "text/plain": [
       "200"
      ]
     },
     "execution_count": 15,
     "metadata": {},
     "output_type": "execute_result"
    }
   ],
   "source": [
    "response.status_code"
   ]
  },
  {
   "cell_type": "code",
   "execution_count": 16,
   "metadata": {},
   "outputs": [
    {
     "data": {
      "text/plain": [
       "{'existing_emissions_tons_co2e': 4.0,\n",
       " 'new_unit_emissions_metric_tons_co2e': 1.25,\n",
       " 'emissions_reduced_metric_tons_co2e': 2.74,\n",
       " 'further_information': 'Please refer to our API documentation for additional information specific to this API.'}"
      ]
     },
     "execution_count": 16,
     "metadata": {},
     "output_type": "execute_result"
    }
   ],
   "source": [
    "response.json()"
   ]
  },
  {
   "cell_type": "markdown",
   "metadata": {},
   "source": [
    "The numbers are a little different this time, as expected, because we changed the efficiency of the\n",
    "existing unit."
   ]
  },
  {
   "cell_type": "markdown",
   "metadata": {},
   "source": [
    "## Upgrading from Oil\n",
    "\n",
    "Our past examples involved upgrades from natural gas to a heat pump. The next example will show how similar\n",
    "the API is for upgrades from oil. The main difference is that instead of passing in the current annual fuel consumption in cubic feet of gas, we pass it in in terms of gallons of oil.\n",
    "\n",
    "We will start by looking up the efficiency of an existing oil furnace whose efficiency standard is known."
   ]
  },
  {
   "cell_type": "code",
   "execution_count": 17,
   "metadata": {},
   "outputs": [],
   "source": [
    "response = requests.get(\n",
    "    url=OIL_EFFICIENCY_STANDARDS_URL,\n",
    "    headers=headers,\n",
    ")"
   ]
  },
  {
   "cell_type": "code",
   "execution_count": 18,
   "metadata": {},
   "outputs": [
    {
     "data": {
      "text/plain": [
       "200"
      ]
     },
     "execution_count": 18,
     "metadata": {},
     "output_type": "execute_result"
    }
   ],
   "source": [
    "response.status_code"
   ]
  },
  {
   "cell_type": "code",
   "execution_count": 19,
   "metadata": {},
   "outputs": [
    {
     "data": {
      "text/plain": [
       "{'AFUE - Oil Furnace - Condensing': 3.07092747,\n",
       " 'AFUE - Oil Furnace - ENERGY STAR after Feb 2003': 2.900320388,\n",
       " 'AFUE - Oil Furnace - Retention Head Burner': 2.729713306,\n",
       " 'AFUE - Oil Furnace - Conventional Burner': 2.456741976,\n",
       " 'AFUE - Oil Boiler - ENERGY STAR after Oct 2014': 2.968563221,\n",
       " 'AFUE - Oil Boiler - ENERGY STAR after April 2002': 2.900320388,\n",
       " 'AFUE - Oil Boiler - After Sept. 2012 (All except ES)': 2.866198972,\n",
       " 'AFUE - Oil Boiler - Induced Draft': 2.797956139,\n",
       " 'AFUE - Oil Boiler - Natural Draft': 2.661470474}"
      ]
     },
     "execution_count": 19,
     "metadata": {},
     "output_type": "execute_result"
    }
   ],
   "source": [
    "response.json()"
   ]
  },
  {
   "cell_type": "code",
   "execution_count": 20,
   "metadata": {},
   "outputs": [
    {
     "data": {
      "text/plain": [
       "2.661470474"
      ]
     },
     "execution_count": 20,
     "metadata": {},
     "output_type": "execute_result"
    }
   ],
   "source": [
    "existing_efficiency_btu_per_watt_hour = response.json()[\n",
    "    \"AFUE - Oil Boiler - Natural Draft\"\n",
    "]\n",
    "existing_efficiency_btu_per_watt_hour"
   ]
  },
  {
   "cell_type": "markdown",
   "metadata": {},
   "source": [
    "Now we will make the call to see what the upgrade will change, using the efficiency of the existing\n",
    "unit that we just looked up."
   ]
  },
  {
   "cell_type": "code",
   "execution_count": 21,
   "metadata": {},
   "outputs": [],
   "source": [
    "response = requests.get(\n",
    "    url=OIL_TO_ELECTRIC_URL,\n",
    "    headers=headers,\n",
    "    params={\n",
    "        \"zip_code\": \"02906\",\n",
    "        \"new_unit_efficiency_btu_per_watt_hour\": 16.0,\n",
    "        \"existing_efficiency_btu_per_watt_hour\": existing_efficiency_btu_per_watt_hour,\n",
    "        \"existing_consumption_gallons_per_year\": 1000.0,\n",
    "    },\n",
    ")"
   ]
  },
  {
   "cell_type": "code",
   "execution_count": 22,
   "metadata": {},
   "outputs": [
    {
     "data": {
      "text/plain": [
       "200"
      ]
     },
     "execution_count": 22,
     "metadata": {},
     "output_type": "execute_result"
    }
   ],
   "source": [
    "response.status_code"
   ]
  },
  {
   "cell_type": "code",
   "execution_count": 23,
   "metadata": {},
   "outputs": [
    {
     "data": {
      "text/plain": [
       "{'existing_emissions_tons_co2e': 12.02,\n",
       " 'new_unit_emissions_metric_tons_co2e': 1.29,\n",
       " 'emissions_reduced_metric_tons_co2e': 10.73,\n",
       " 'further_information': 'Please refer to our API documentation for additional information specific to this API.'}"
      ]
     },
     "execution_count": 23,
     "metadata": {},
     "output_type": "execute_result"
    }
   ],
   "source": [
    "response.json()"
   ]
  },
  {
   "cell_type": "markdown",
   "metadata": {},
   "source": [
    "## Upgrading from Propane\n",
    "\n",
    "This is very similar to upgrading from natural gas. We query the efficiency standards and then\n",
    "call the API."
   ]
  },
  {
   "cell_type": "code",
   "execution_count": 24,
   "metadata": {},
   "outputs": [],
   "source": [
    "response = requests.get(\n",
    "    url=NATURAL_GAS_AND_PROPANE_EFFICIENCY_STANDARDS_URL,\n",
    "    headers=headers,\n",
    ")"
   ]
  },
  {
   "cell_type": "code",
   "execution_count": 25,
   "metadata": {},
   "outputs": [
    {
     "data": {
      "text/plain": [
       "200"
      ]
     },
     "execution_count": 25,
     "metadata": {},
     "output_type": "execute_result"
    }
   ],
   "source": [
    "response.status_code"
   ]
  },
  {
   "cell_type": "code",
   "execution_count": 26,
   "metadata": {},
   "outputs": [
    {
     "data": {
      "text/plain": [
       "{'AFUE - Gas/Propane Furnace - Condensing Prior to 2015': 3.07092747,\n",
       " 'AFUE - Gas/Propane Furnace - Natural Draft (All Years)': 2.661470474,\n",
       " 'AFUE - Gas/Propane Furnace - Induced Draft (All Years)': 2.797956139,\n",
       " 'AFUE - Gas/Propane Furnace - North': 3.241534551,\n",
       " 'AFUE - Gas/Propane Furnace - South': 3.07092747,\n",
       " 'AFUE - Gas/Propane Boiler - ENERGY STAR after Oct 2014': 3.07092747,\n",
       " 'AFUE - Gas/Propane Boiler - ENERGY STAR after Oct 2004': 2.900320388,\n",
       " 'AFUE - Gas/Propane Boiler - Condensing': 3.07092747,\n",
       " 'AFUE - Gas/Propane Boiler - Induced Draft': 2.797956139,\n",
       " 'AFUE - Gas/Propane Boiler - Natural Draft': 2.661470474}"
      ]
     },
     "execution_count": 26,
     "metadata": {},
     "output_type": "execute_result"
    }
   ],
   "source": [
    "response.json()"
   ]
  },
  {
   "cell_type": "code",
   "execution_count": 27,
   "metadata": {},
   "outputs": [],
   "source": [
    "existing_efficiency_btu_per_watt_hour = response.json()[\n",
    "    \"AFUE - Gas/Propane Boiler - ENERGY STAR after Oct 2004\"\n",
    "]"
   ]
  },
  {
   "cell_type": "code",
   "execution_count": 28,
   "metadata": {},
   "outputs": [],
   "source": [
    "response = requests.get(\n",
    "    url=PROPANE_TO_ELECTRIC_URL,\n",
    "    headers=headers,\n",
    "    params={\n",
    "        \"zip_code\": \"30306\",\n",
    "        \"new_unit_efficiency_btu_per_watt_hour\": 17.0,\n",
    "        \"existing_efficiency_btu_per_watt_hour\": existing_efficiency_btu_per_watt_hour,\n",
    "        \"existing_consumption_gallons_per_year\": 1_000.0,\n",
    "    },\n",
    ")"
   ]
  },
  {
   "cell_type": "code",
   "execution_count": 29,
   "metadata": {},
   "outputs": [
    {
     "data": {
      "text/plain": [
       "200"
      ]
     },
     "execution_count": 29,
     "metadata": {},
     "output_type": "execute_result"
    }
   ],
   "source": [
    "response.status_code"
   ]
  },
  {
   "cell_type": "code",
   "execution_count": 30,
   "metadata": {},
   "outputs": [
    {
     "data": {
      "text/plain": [
       "{'existing_emissions_tons_co2e': 12.02,\n",
       " 'new_unit_emissions_metric_tons_co2e': 2.4,\n",
       " 'emissions_reduced_metric_tons_co2e': 9.62,\n",
       " 'further_information': 'Please refer to our API documentation for additional information specific to this API.'}"
      ]
     },
     "execution_count": 30,
     "metadata": {},
     "output_type": "execute_result"
    }
   ],
   "source": [
    "response.json()"
   ]
  },
  {
   "cell_type": "markdown",
   "metadata": {},
   "source": [
    "## Upgrading from Electric\n",
    "\n",
    "We also have an API for upgrading from electric heat, such as baseboard\n",
    "heating, to a heat pump. The usage pattern is the same as for the other \n",
    "fuels above."
   ]
  },
  {
   "cell_type": "code",
   "execution_count": 31,
   "metadata": {},
   "outputs": [],
   "source": [
    "response = requests.get(\n",
    "    url=ELECTRIC_EFFICIENCY_STANDARDS_URL,\n",
    "    headers=headers,\n",
    ")"
   ]
  },
  {
   "cell_type": "code",
   "execution_count": 32,
   "metadata": {},
   "outputs": [
    {
     "data": {
      "text/plain": [
       "200"
      ]
     },
     "execution_count": 32,
     "metadata": {},
     "output_type": "execute_result"
    }
   ],
   "source": [
    "response.status_code"
   ]
  },
  {
   "cell_type": "code",
   "execution_count": 33,
   "metadata": {},
   "outputs": [
    {
     "data": {
      "text/plain": [
       "{'SEER - ENERGY STAR 2006 thru Aug 2015': 14.5,\n",
       " 'SEER - 2015 or newer (South)': 14.0,\n",
       " 'SEER - 2015 or newer (North)': 13.0,\n",
       " 'SEER - 2006 to 2014': 13.0,\n",
       " 'SEER - 1992 through 2005': 10.0,\n",
       " 'SEER - Prior to 1992': 9.0,\n",
       " 'SEER - Mini-split / Ductless (All years)': 19.0,\n",
       " 'HSPF - ENERGY STAR Sept 2015 to present': 8.5,\n",
       " 'HSPF - ENERGY STAR 2006 thru Aug 2015': 8.2,\n",
       " 'HSPF - 2015 or newer': 8.2,\n",
       " 'HSPF - 2006 to 2014': 7.7,\n",
       " 'HSPF - 1992 through 2005': 7.1,\n",
       " 'HSPF - Prior to 1992': 6.6,\n",
       " 'HSPF - Mini-split / Ductless (All years)': 10.0,\n",
       " 'EER - Window A/C': 9.0}"
      ]
     },
     "execution_count": 33,
     "metadata": {},
     "output_type": "execute_result"
    }
   ],
   "source": [
    "response.json()"
   ]
  },
  {
   "cell_type": "code",
   "execution_count": 34,
   "metadata": {},
   "outputs": [],
   "source": [
    "existing_efficiency_btu_per_watt_hour = response.json()[\"SEER - 1992 through 2005\"]"
   ]
  },
  {
   "cell_type": "code",
   "execution_count": 35,
   "metadata": {},
   "outputs": [],
   "source": [
    "# In this API we express current HVAC usage in kWh instead of gallons or\n",
    "# cubic feet of fuel consumed.\n",
    "\n",
    "response = requests.get(\n",
    "    url=ELECTRIC_TO_ELECTRIC_URL,\n",
    "    headers=headers,\n",
    "    params={\n",
    "        \"zip_code\": \"30306\",\n",
    "        \"new_unit_efficiency_btu_per_watt_hour\": 17.0,\n",
    "        \"existing_efficiency_btu_per_watt_hour\": existing_efficiency_btu_per_watt_hour,\n",
    "        \"annual_hvac_usage_kwh\": 2_000.0,\n",
    "    },\n",
    ")"
   ]
  },
  {
   "cell_type": "code",
   "execution_count": 36,
   "metadata": {},
   "outputs": [
    {
     "data": {
      "text/plain": [
       "200"
      ]
     },
     "execution_count": 36,
     "metadata": {},
     "output_type": "execute_result"
    }
   ],
   "source": [
    "response.status_code"
   ]
  },
  {
   "cell_type": "code",
   "execution_count": 37,
   "metadata": {},
   "outputs": [
    {
     "data": {
      "text/plain": [
       "{'existing_emissions_tons_co2e': 0.8142031746031746,\n",
       " 'new_unit_emissions_metric_tons_co2e': 0.4789430438842203,\n",
       " 'emissions_reduced_metric_tons_co2e': 0.3352601307189542,\n",
       " 'further_information': 'Please refer to our API documentation for additional information specific to this API.'}"
      ]
     },
     "execution_count": 37,
     "metadata": {},
     "output_type": "execute_result"
    }
   ],
   "source": [
    "response.json()"
   ]
  },
  {
   "cell_type": "code",
   "execution_count": null,
   "metadata": {},
   "outputs": [],
   "source": []
  }
 ],
 "metadata": {
  "kernelspec": {
   "display_name": ".venv",
   "language": "python",
   "name": "python3"
  },
  "language_info": {
   "codemirror_mode": {
    "name": "ipython",
    "version": 3
   },
   "file_extension": ".py",
   "mimetype": "text/x-python",
   "name": "python",
   "nbconvert_exporter": "python",
   "pygments_lexer": "ipython3",
   "version": "3.12.4"
  }
 },
 "nbformat": 4,
 "nbformat_minor": 2
}
